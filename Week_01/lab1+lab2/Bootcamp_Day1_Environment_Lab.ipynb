{
 "cells": [
  {
   "cell_type": "markdown",
   "id": "0905c96c",
   "metadata": {},
   "source": [
    "# 💻 Day 1 Lab: Python Environment Setup & Tooling\n",
    "Welcome to your first hands-on session! Today we'll set up everything you need to run Python projects in a clean and manageable way."
   ]
  },
  {
   "cell_type": "markdown",
   "id": "8604ae30",
   "metadata": {},
   "source": [
    "## Step 1: Install Miniconda\n",
    "- Go to [Miniconda Downloads](https://docs.conda.io/en/latest/miniconda.html)\n",
    "- Choose your operating system and install Miniconda with default settings\n",
    "- After installation, open your terminal (Command Prompt, Terminal, or Anaconda Prompt)\n",
    "- Run the following to verify the installation:\n",
    "```bash\n",
    "conda --version\n",
    "```"
   ]
  },
  {
   "cell_type": "markdown",
   "id": "9ba104a7",
   "metadata": {},
   "source": [
    "## Step 2: Create a New Conda Environment\n",
    "```bash\n",
    "conda create -n ai-bootcamp python=3.10\n",
    "```\n",
    "- `ai-bootcamp` is the name of your environment (you can change it)\n",
    "- When prompted, press `y` to proceed with installation"
   ]
  },
  {
   "cell_type": "markdown",
   "id": "87eb43b1",
   "metadata": {},
   "source": [
    "## Step 3: Activate the Environment\n",
    "```bash\n",
    "conda activate ai-bootcamp\n",
    "```"
   ]
  },
  {
   "cell_type": "markdown",
   "id": "4f8f778d",
   "metadata": {},
   "source": [
    "## Step 4: Install Core Packages\n",
    "```bash\n",
    "conda install numpy pandas matplotlib jupyter\n",
    "pip install seaborn\n",
    "```"
   ]
  },
  {
   "cell_type": "markdown",
   "id": "e0df1308",
   "metadata": {},
   "source": [
    "## Step 5: Launch Jupyter Notebook\n",
    "```bash\n",
    "jupyter notebook\n",
    "```\n",
    "- A browser window should open with the Jupyter interface\n",
    "- If not, copy the URL from terminal (e.g., http://localhost:8888/) and paste it into your browser"
   ]
  },
  {
   "cell_type": "markdown",
   "id": "8cfa6334",
   "metadata": {},
   "source": [
    "## Step 6: Create a Test Notebook\n",
    "- In the Jupyter interface, click `New` → `Python 3 (ipykernel)`\n",
    "- Run the following code to test your environment:"
   ]
  },
  {
   "cell_type": "code",
   "execution_count": null,
   "id": "6039bc4d",
   "metadata": {},
   "outputs": [],
   "source": [
    "import sys\n",
    "import numpy as np\n",
    "import pandas as pd\n",
    "print(\"Python:\", sys.version)\n",
    "print(\"NumPy:\", np.__version__)\n",
    "print(\"Pandas:\", pd.__version__)"
   ]
  },
  {
   "cell_type": "markdown",
   "id": "6fd227d2",
   "metadata": {},
   "source": [
    "## Step 7: Install and Configure VS Code\n",
    "- Download and install VS Code: https://code.visualstudio.com/\n",
    "- Open VS Code, go to Extensions (Ctrl+Shift+X) and install:\n",
    "  - Python\n",
    "  - Jupyter\n",
    "  - Pylance\n",
    "- Open Command Palette (Ctrl+Shift+P) → `Python: Select Interpreter`\n",
    "- Choose your `ai-bootcamp` conda environment"
   ]
  },
  {
   "cell_type": "markdown",
   "id": "3c9a528b",
   "metadata": {},
   "source": [
    "## ✅ Final Checklist\n",
    "- [ ] Miniconda installed\n",
    "- [ ] Conda environment created and activated\n",
    "- [ ] Packages installed (numpy, pandas, matplotlib, seaborn, jupyter)\n",
    "- [ ] Jupyter notebook opened successfully\n",
    "- [ ] Test script ran successfully\n",
    "- [ ] VS Code installed and environment connected\n",
    "\n",
    "If all are checked, you're all set for Day 2! 🎉"
   ]
  }
 ],
 "metadata": {},
 "nbformat": 4,
 "nbformat_minor": 5
}
